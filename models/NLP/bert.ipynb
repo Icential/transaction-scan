{
 "cells": [
  {
   "cell_type": "code",
   "execution_count": 180,
   "metadata": {},
   "outputs": [],
   "source": [
    "from transformers import AutoTokenizer, AdamW, AutoModelForSequenceClassification, get_scheduler\n",
    "from datasets import load_metric\n",
    "from accelerate import Accelerator\n",
    "from torch.utils.data import DataLoader\n",
    "import torch\n",
    "from torch.utils.data import Dataset\n",
    "from tqdm import tqdm\n",
    "import pandas as pd\n",
    "from sklearn.model_selection import train_test_split"
   ]
  },
  {
   "cell_type": "markdown",
   "metadata": {},
   "source": [
    "### Data Processing"
   ]
  },
  {
   "cell_type": "code",
   "execution_count": 181,
   "metadata": {},
   "outputs": [
    {
     "data": {
      "text/plain": [
       "(79, 2)"
      ]
     },
     "execution_count": 181,
     "metadata": {},
     "output_type": "execute_result"
    }
   ],
   "source": [
    "df = pd.read_csv(\"ind.csv\")\n",
    "df = df.drop_duplicates()\n",
    "df.shape"
   ]
  },
  {
   "cell_type": "code",
   "execution_count": 182,
   "metadata": {},
   "outputs": [],
   "source": [
    "checkpoint = \"bert-base-uncased\""
   ]
  },
  {
   "cell_type": "code",
   "execution_count": 183,
   "metadata": {},
   "outputs": [],
   "source": [
    "tokenizer = AutoTokenizer.from_pretrained(checkpoint)"
   ]
  },
  {
   "cell_type": "code",
   "execution_count": 184,
   "metadata": {},
   "outputs": [],
   "source": [
    "texts = df[\"name\"].tolist()\n",
    "labels = df[\"label\"].tolist()"
   ]
  },
  {
   "cell_type": "code",
   "execution_count": 185,
   "metadata": {},
   "outputs": [],
   "source": [
    "train_texts, test_texts, train_labels, test_labels = train_test_split(texts, labels, test_size=0.2)"
   ]
  },
  {
   "cell_type": "code",
   "execution_count": 186,
   "metadata": {},
   "outputs": [],
   "source": [
    "tokenized_train = tokenizer(train_texts, padding=True, truncation=True)\n",
    "tokenized_test = tokenizer(test_texts, padding=True, truncation=True)"
   ]
  },
  {
   "cell_type": "code",
   "execution_count": 187,
   "metadata": {},
   "outputs": [],
   "source": [
    "class CustomDataset(Dataset):\n",
    "    def __init__(self, texts, labels):\n",
    "        self.texts = texts\n",
    "        self.labels = labels\n",
    "\n",
    "    def __len__(self):\n",
    "        return len(self.labels)\n",
    "\n",
    "    def __getitem__(self, idx):\n",
    "        item = {key: torch.tensor(val[idx]) for key, val in self.texts.items()}\n",
    "        item['labels'] = torch.tensor(self.labels[idx], dtype=torch.float32)\n",
    "        return item"
   ]
  },
  {
   "cell_type": "code",
   "execution_count": 188,
   "metadata": {},
   "outputs": [],
   "source": [
    "train_ds = CustomDataset(tokenized_train, train_labels)\n",
    "test_ds = CustomDataset(tokenized_test, test_labels)"
   ]
  },
  {
   "cell_type": "code",
   "execution_count": 189,
   "metadata": {},
   "outputs": [],
   "source": [
    "batch_size = 8\n",
    "\n",
    "train_dl = DataLoader(train_ds, shuffle=True, batch_size=batch_size)\n",
    "test_dl = DataLoader(test_ds, shuffle=True, batch_size=batch_size)"
   ]
  },
  {
   "cell_type": "markdown",
   "metadata": {},
   "source": [
    "### Load Model"
   ]
  },
  {
   "cell_type": "code",
   "execution_count": 190,
   "metadata": {},
   "outputs": [],
   "source": [
    "# define accelerator that eases train-test process\n",
    "accelerator = Accelerator()"
   ]
  },
  {
   "cell_type": "code",
   "execution_count": 191,
   "metadata": {},
   "outputs": [
    {
     "name": "stderr",
     "output_type": "stream",
     "text": [
      "Some weights of BertForSequenceClassification were not initialized from the model checkpoint at bert-base-uncased and are newly initialized: ['classifier.bias', 'classifier.weight']\n",
      "You should probably TRAIN this model on a down-stream task to be able to use it for predictions and inference.\n"
     ]
    }
   ],
   "source": [
    "# define model\n",
    "model = AutoModelForSequenceClassification.from_pretrained(checkpoint, num_labels=1)"
   ]
  },
  {
   "cell_type": "code",
   "execution_count": 192,
   "metadata": {},
   "outputs": [
    {
     "name": "stderr",
     "output_type": "stream",
     "text": [
      "c:\\Users\\paoma\\miniconda3\\Lib\\site-packages\\transformers\\optimization.py:588: FutureWarning: This implementation of AdamW is deprecated and will be removed in a future version. Use the PyTorch implementation torch.optim.AdamW instead, or set `no_deprecation_warning=True` to disable this warning\n",
      "  warnings.warn(\n"
     ]
    }
   ],
   "source": [
    "# define optimizer\n",
    "optimizer = AdamW(model.parameters(), lr=0.001)"
   ]
  },
  {
   "cell_type": "code",
   "execution_count": 193,
   "metadata": {},
   "outputs": [],
   "source": [
    "# set dataloaders, model and optimizer to accelerator (to gpu or smth)\n",
    "train_dl, test_dl, model, optimizer = accelerator.prepare(train_dl, test_dl, model, optimizer)"
   ]
  },
  {
   "cell_type": "code",
   "execution_count": 194,
   "metadata": {},
   "outputs": [],
   "source": [
    "# define epochs\n",
    "epochs = 100\n",
    "training_steps = epochs * len(train_dl)"
   ]
  },
  {
   "cell_type": "code",
   "execution_count": 195,
   "metadata": {},
   "outputs": [],
   "source": [
    "# define scheduler for training\n",
    "scheduler = get_scheduler(\n",
    "    \"linear\",\n",
    "    optimizer = optimizer,\n",
    "    num_warmup_steps=0,\n",
    "    num_training_steps=training_steps\n",
    ")"
   ]
  },
  {
   "cell_type": "markdown",
   "metadata": {},
   "source": [
    "### Train Model"
   ]
  },
  {
   "cell_type": "code",
   "execution_count": 196,
   "metadata": {},
   "outputs": [
    {
     "name": "stderr",
     "output_type": "stream",
     "text": [
      "c:\\Users\\paoma\\miniconda3\\Lib\\site-packages\\datasets\\load.py:759: FutureWarning: The repository for accuracy contains custom code which must be executed to correctly load the metric. You can inspect the repository content at https://raw.githubusercontent.com/huggingface/datasets/2.19.1/metrics/accuracy/accuracy.py\n",
      "You can avoid this message in future by passing the argument `trust_remote_code=True`.\n",
      "Passing `trust_remote_code=True` will be mandatory to load this metric from the next major release of `datasets`.\n",
      "  warnings.warn(\n"
     ]
    }
   ],
   "source": [
    "# set metrics\n",
    "metric = load_metric(\"accuracy\")"
   ]
  },
  {
   "cell_type": "code",
   "execution_count": 197,
   "metadata": {},
   "outputs": [
    {
     "name": "stderr",
     "output_type": "stream",
     "text": []
    },
    {
     "name": "stdout",
     "output_type": "stream",
     "text": [
      "Training:  {'accuracy': 0.38095238095238093}\n"
     ]
    },
    {
     "name": "stderr",
     "output_type": "stream",
     "text": []
    },
    {
     "name": "stdout",
     "output_type": "stream",
     "text": [
      "Test:  {'accuracy': 0.4375}\n",
      "Training:  {'accuracy': 0.3333333333333333}\n"
     ]
    },
    {
     "name": "stderr",
     "output_type": "stream",
     "text": []
    },
    {
     "name": "stdout",
     "output_type": "stream",
     "text": [
      "Test:  {'accuracy': 0.4375}\n",
      "Training:  {'accuracy': 0.49206349206349204}\n"
     ]
    },
    {
     "name": "stderr",
     "output_type": "stream",
     "text": []
    },
    {
     "name": "stdout",
     "output_type": "stream",
     "text": [
      "Test:  {'accuracy': 0.4375}\n",
      "Training:  {'accuracy': 0.5714285714285714}\n"
     ]
    },
    {
     "name": "stderr",
     "output_type": "stream",
     "text": []
    },
    {
     "name": "stdout",
     "output_type": "stream",
     "text": [
      "Test:  {'accuracy': 0.5625}\n",
      "Training:  {'accuracy': 0.5238095238095238}\n"
     ]
    },
    {
     "name": "stderr",
     "output_type": "stream",
     "text": []
    },
    {
     "name": "stdout",
     "output_type": "stream",
     "text": [
      "Test:  {'accuracy': 0.4375}\n",
      "Training:  {'accuracy': 0.6031746031746031}\n"
     ]
    },
    {
     "name": "stderr",
     "output_type": "stream",
     "text": []
    },
    {
     "name": "stdout",
     "output_type": "stream",
     "text": [
      "Test:  {'accuracy': 0.4375}\n",
      "Training:  {'accuracy': 0.5079365079365079}\n"
     ]
    },
    {
     "name": "stderr",
     "output_type": "stream",
     "text": []
    },
    {
     "name": "stdout",
     "output_type": "stream",
     "text": [
      "Test:  {'accuracy': 0.5625}\n",
      "Training:  {'accuracy': 0.5238095238095238}\n"
     ]
    },
    {
     "name": "stderr",
     "output_type": "stream",
     "text": []
    },
    {
     "name": "stdout",
     "output_type": "stream",
     "text": [
      "Test:  {'accuracy': 0.4375}\n",
      "Training:  {'accuracy': 0.4603174603174603}\n"
     ]
    },
    {
     "name": "stderr",
     "output_type": "stream",
     "text": []
    },
    {
     "name": "stdout",
     "output_type": "stream",
     "text": [
      "Test:  {'accuracy': 0.5625}\n",
      "Training:  {'accuracy': 0.42857142857142855}\n"
     ]
    },
    {
     "name": "stderr",
     "output_type": "stream",
     "text": []
    },
    {
     "name": "stdout",
     "output_type": "stream",
     "text": [
      "Test:  {'accuracy': 0.4375}\n",
      "Training:  {'accuracy': 0.5079365079365079}\n"
     ]
    },
    {
     "name": "stderr",
     "output_type": "stream",
     "text": []
    },
    {
     "name": "stdout",
     "output_type": "stream",
     "text": [
      "Test:  {'accuracy': 0.4375}\n",
      "Training:  {'accuracy': 0.49206349206349204}\n"
     ]
    },
    {
     "name": "stderr",
     "output_type": "stream",
     "text": []
    },
    {
     "name": "stdout",
     "output_type": "stream",
     "text": [
      "Test:  {'accuracy': 0.4375}\n",
      "Training:  {'accuracy': 0.5238095238095238}\n"
     ]
    },
    {
     "name": "stderr",
     "output_type": "stream",
     "text": []
    },
    {
     "name": "stdout",
     "output_type": "stream",
     "text": [
      "Test:  {'accuracy': 0.4375}\n",
      "Training:  {'accuracy': 0.38095238095238093}\n"
     ]
    },
    {
     "name": "stderr",
     "output_type": "stream",
     "text": []
    },
    {
     "name": "stdout",
     "output_type": "stream",
     "text": [
      "Test:  {'accuracy': 0.4375}\n",
      "Training:  {'accuracy': 0.49206349206349204}\n"
     ]
    },
    {
     "name": "stderr",
     "output_type": "stream",
     "text": []
    },
    {
     "name": "stdout",
     "output_type": "stream",
     "text": [
      "Test:  {'accuracy': 0.5625}\n",
      "Training:  {'accuracy': 0.4126984126984127}\n"
     ]
    },
    {
     "name": "stderr",
     "output_type": "stream",
     "text": []
    },
    {
     "name": "stdout",
     "output_type": "stream",
     "text": [
      "Test:  {'accuracy': 0.4375}\n",
      "Training:  {'accuracy': 0.5238095238095238}\n"
     ]
    },
    {
     "name": "stderr",
     "output_type": "stream",
     "text": []
    },
    {
     "name": "stdout",
     "output_type": "stream",
     "text": [
      "Test:  {'accuracy': 0.5625}\n",
      "Training:  {'accuracy': 0.38095238095238093}\n"
     ]
    },
    {
     "name": "stderr",
     "output_type": "stream",
     "text": []
    },
    {
     "name": "stdout",
     "output_type": "stream",
     "text": [
      "Test:  {'accuracy': 0.4375}\n",
      "Training:  {'accuracy': 0.49206349206349204}\n"
     ]
    },
    {
     "name": "stderr",
     "output_type": "stream",
     "text": []
    },
    {
     "name": "stdout",
     "output_type": "stream",
     "text": [
      "Test:  {'accuracy': 0.5625}\n",
      "Training:  {'accuracy': 0.49206349206349204}\n"
     ]
    },
    {
     "name": "stderr",
     "output_type": "stream",
     "text": []
    },
    {
     "name": "stdout",
     "output_type": "stream",
     "text": [
      "Test:  {'accuracy': 0.4375}\n",
      "Training:  {'accuracy': 0.47619047619047616}\n"
     ]
    },
    {
     "name": "stderr",
     "output_type": "stream",
     "text": []
    },
    {
     "name": "stdout",
     "output_type": "stream",
     "text": [
      "Test:  {'accuracy': 0.5625}\n",
      "Training:  {'accuracy': 0.5396825396825397}\n"
     ]
    },
    {
     "name": "stderr",
     "output_type": "stream",
     "text": []
    },
    {
     "name": "stdout",
     "output_type": "stream",
     "text": [
      "Test:  {'accuracy': 0.4375}\n",
      "Training:  {'accuracy': 0.5873015873015873}\n"
     ]
    },
    {
     "name": "stderr",
     "output_type": "stream",
     "text": []
    },
    {
     "name": "stdout",
     "output_type": "stream",
     "text": [
      "Test:  {'accuracy': 0.5625}\n",
      "Training:  {'accuracy': 0.5555555555555556}\n"
     ]
    },
    {
     "name": "stderr",
     "output_type": "stream",
     "text": []
    },
    {
     "name": "stdout",
     "output_type": "stream",
     "text": [
      "Test:  {'accuracy': 0.4375}\n",
      "Training:  {'accuracy': 0.4603174603174603}\n"
     ]
    },
    {
     "name": "stderr",
     "output_type": "stream",
     "text": []
    },
    {
     "name": "stdout",
     "output_type": "stream",
     "text": [
      "Test:  {'accuracy': 0.5625}\n",
      "Training:  {'accuracy': 0.49206349206349204}\n"
     ]
    },
    {
     "name": "stderr",
     "output_type": "stream",
     "text": []
    },
    {
     "name": "stdout",
     "output_type": "stream",
     "text": [
      "Test:  {'accuracy': 0.4375}\n",
      "Training:  {'accuracy': 0.3492063492063492}\n"
     ]
    },
    {
     "name": "stderr",
     "output_type": "stream",
     "text": []
    },
    {
     "name": "stdout",
     "output_type": "stream",
     "text": [
      "Test:  {'accuracy': 0.5625}\n",
      "Training:  {'accuracy': 0.49206349206349204}\n"
     ]
    },
    {
     "name": "stderr",
     "output_type": "stream",
     "text": []
    },
    {
     "name": "stdout",
     "output_type": "stream",
     "text": [
      "Test:  {'accuracy': 0.4375}\n",
      "Training:  {'accuracy': 0.5396825396825397}\n"
     ]
    },
    {
     "name": "stderr",
     "output_type": "stream",
     "text": []
    },
    {
     "name": "stdout",
     "output_type": "stream",
     "text": [
      "Test:  {'accuracy': 0.5625}\n",
      "Training:  {'accuracy': 0.5396825396825397}\n"
     ]
    },
    {
     "name": "stderr",
     "output_type": "stream",
     "text": []
    },
    {
     "name": "stdout",
     "output_type": "stream",
     "text": [
      "Test:  {'accuracy': 0.5625}\n",
      "Training:  {'accuracy': 0.5079365079365079}\n"
     ]
    },
    {
     "name": "stderr",
     "output_type": "stream",
     "text": []
    },
    {
     "name": "stdout",
     "output_type": "stream",
     "text": [
      "Test:  {'accuracy': 0.5625}\n",
      "Training:  {'accuracy': 0.5555555555555556}\n"
     ]
    },
    {
     "name": "stderr",
     "output_type": "stream",
     "text": []
    },
    {
     "name": "stdout",
     "output_type": "stream",
     "text": [
      "Test:  {'accuracy': 0.4375}\n",
      "Training:  {'accuracy': 0.5238095238095238}\n"
     ]
    },
    {
     "name": "stderr",
     "output_type": "stream",
     "text": []
    },
    {
     "name": "stdout",
     "output_type": "stream",
     "text": [
      "Test:  {'accuracy': 0.5625}\n",
      "Training:  {'accuracy': 0.3968253968253968}\n"
     ]
    },
    {
     "name": "stderr",
     "output_type": "stream",
     "text": []
    },
    {
     "name": "stdout",
     "output_type": "stream",
     "text": [
      "Test:  {'accuracy': 0.4375}\n",
      "Training:  {'accuracy': 0.42857142857142855}\n"
     ]
    },
    {
     "name": "stderr",
     "output_type": "stream",
     "text": []
    },
    {
     "name": "stdout",
     "output_type": "stream",
     "text": [
      "Test:  {'accuracy': 0.5625}\n",
      "Training:  {'accuracy': 0.4603174603174603}\n"
     ]
    },
    {
     "name": "stderr",
     "output_type": "stream",
     "text": []
    },
    {
     "name": "stdout",
     "output_type": "stream",
     "text": [
      "Test:  {'accuracy': 0.4375}\n",
      "Training:  {'accuracy': 0.5873015873015873}\n"
     ]
    },
    {
     "name": "stderr",
     "output_type": "stream",
     "text": []
    },
    {
     "name": "stdout",
     "output_type": "stream",
     "text": [
      "Test:  {'accuracy': 0.5625}\n",
      "Training:  {'accuracy': 0.5079365079365079}\n"
     ]
    },
    {
     "name": "stderr",
     "output_type": "stream",
     "text": []
    },
    {
     "name": "stdout",
     "output_type": "stream",
     "text": [
      "Test:  {'accuracy': 0.4375}\n",
      "Training:  {'accuracy': 0.5238095238095238}\n"
     ]
    },
    {
     "name": "stderr",
     "output_type": "stream",
     "text": []
    },
    {
     "name": "stdout",
     "output_type": "stream",
     "text": [
      "Test:  {'accuracy': 0.5625}\n",
      "Training:  {'accuracy': 0.49206349206349204}\n"
     ]
    },
    {
     "name": "stderr",
     "output_type": "stream",
     "text": []
    },
    {
     "name": "stdout",
     "output_type": "stream",
     "text": [
      "Test:  {'accuracy': 0.5625}\n",
      "Training:  {'accuracy': 0.5714285714285714}\n"
     ]
    },
    {
     "name": "stderr",
     "output_type": "stream",
     "text": []
    },
    {
     "name": "stdout",
     "output_type": "stream",
     "text": [
      "Test:  {'accuracy': 0.4375}\n",
      "Training:  {'accuracy': 0.5714285714285714}\n"
     ]
    },
    {
     "name": "stderr",
     "output_type": "stream",
     "text": []
    },
    {
     "name": "stdout",
     "output_type": "stream",
     "text": [
      "Test:  {'accuracy': 0.5625}\n",
      "Training:  {'accuracy': 0.3968253968253968}\n"
     ]
    },
    {
     "name": "stderr",
     "output_type": "stream",
     "text": []
    },
    {
     "name": "stdout",
     "output_type": "stream",
     "text": [
      "Test:  {'accuracy': 0.4375}\n",
      "Training:  {'accuracy': 0.5238095238095238}\n"
     ]
    },
    {
     "name": "stderr",
     "output_type": "stream",
     "text": []
    },
    {
     "name": "stdout",
     "output_type": "stream",
     "text": [
      "Test:  {'accuracy': 0.5625}\n",
      "Training:  {'accuracy': 0.49206349206349204}\n"
     ]
    },
    {
     "name": "stderr",
     "output_type": "stream",
     "text": []
    },
    {
     "name": "stdout",
     "output_type": "stream",
     "text": [
      "Test:  {'accuracy': 0.4375}\n",
      "Training:  {'accuracy': 0.47619047619047616}\n"
     ]
    },
    {
     "name": "stderr",
     "output_type": "stream",
     "text": []
    },
    {
     "name": "stdout",
     "output_type": "stream",
     "text": [
      "Test:  {'accuracy': 0.4375}\n",
      "Training:  {'accuracy': 0.42857142857142855}\n"
     ]
    },
    {
     "name": "stderr",
     "output_type": "stream",
     "text": []
    },
    {
     "name": "stdout",
     "output_type": "stream",
     "text": [
      "Test:  {'accuracy': 0.5625}\n",
      "Training:  {'accuracy': 0.5555555555555556}\n"
     ]
    },
    {
     "name": "stderr",
     "output_type": "stream",
     "text": []
    },
    {
     "name": "stdout",
     "output_type": "stream",
     "text": [
      "Test:  {'accuracy': 0.4375}\n",
      "Training:  {'accuracy': 0.4126984126984127}\n"
     ]
    },
    {
     "name": "stderr",
     "output_type": "stream",
     "text": []
    },
    {
     "name": "stdout",
     "output_type": "stream",
     "text": [
      "Test:  {'accuracy': 0.4375}\n",
      "Training:  {'accuracy': 0.5238095238095238}\n"
     ]
    },
    {
     "name": "stderr",
     "output_type": "stream",
     "text": []
    },
    {
     "name": "stdout",
     "output_type": "stream",
     "text": [
      "Test:  {'accuracy': 0.4375}\n",
      "Training:  {'accuracy': 0.42857142857142855}\n"
     ]
    },
    {
     "name": "stderr",
     "output_type": "stream",
     "text": []
    },
    {
     "name": "stdout",
     "output_type": "stream",
     "text": [
      "Test:  {'accuracy': 0.5625}\n",
      "Training:  {'accuracy': 0.49206349206349204}\n"
     ]
    },
    {
     "name": "stderr",
     "output_type": "stream",
     "text": []
    },
    {
     "name": "stdout",
     "output_type": "stream",
     "text": [
      "Test:  {'accuracy': 0.4375}\n",
      "Training:  {'accuracy': 0.4603174603174603}\n"
     ]
    },
    {
     "name": "stderr",
     "output_type": "stream",
     "text": []
    },
    {
     "name": "stdout",
     "output_type": "stream",
     "text": [
      "Test:  {'accuracy': 0.4375}\n",
      "Training:  {'accuracy': 0.42857142857142855}\n"
     ]
    },
    {
     "name": "stderr",
     "output_type": "stream",
     "text": []
    },
    {
     "name": "stdout",
     "output_type": "stream",
     "text": [
      "Test:  {'accuracy': 0.4375}\n",
      "Training:  {'accuracy': 0.5238095238095238}\n"
     ]
    },
    {
     "name": "stderr",
     "output_type": "stream",
     "text": []
    },
    {
     "name": "stdout",
     "output_type": "stream",
     "text": [
      "Test:  {'accuracy': 0.4375}\n",
      "Training:  {'accuracy': 0.5079365079365079}\n"
     ]
    },
    {
     "name": "stderr",
     "output_type": "stream",
     "text": []
    },
    {
     "name": "stdout",
     "output_type": "stream",
     "text": [
      "Test:  {'accuracy': 0.5625}\n",
      "Training:  {'accuracy': 0.42857142857142855}\n"
     ]
    },
    {
     "name": "stderr",
     "output_type": "stream",
     "text": []
    },
    {
     "name": "stdout",
     "output_type": "stream",
     "text": [
      "Test:  {'accuracy': 0.4375}\n",
      "Training:  {'accuracy': 0.6031746031746031}\n"
     ]
    },
    {
     "name": "stderr",
     "output_type": "stream",
     "text": []
    },
    {
     "name": "stdout",
     "output_type": "stream",
     "text": [
      "Test:  {'accuracy': 0.5625}\n",
      "Training:  {'accuracy': 0.42857142857142855}\n"
     ]
    },
    {
     "name": "stderr",
     "output_type": "stream",
     "text": []
    },
    {
     "name": "stdout",
     "output_type": "stream",
     "text": [
      "Test:  {'accuracy': 0.4375}\n",
      "Training:  {'accuracy': 0.4444444444444444}\n"
     ]
    },
    {
     "name": "stderr",
     "output_type": "stream",
     "text": []
    },
    {
     "name": "stdout",
     "output_type": "stream",
     "text": [
      "Test:  {'accuracy': 0.4375}\n",
      "Training:  {'accuracy': 0.5396825396825397}\n"
     ]
    },
    {
     "name": "stderr",
     "output_type": "stream",
     "text": []
    },
    {
     "name": "stdout",
     "output_type": "stream",
     "text": [
      "Test:  {'accuracy': 0.5625}\n",
      "Training:  {'accuracy': 0.5873015873015873}\n"
     ]
    },
    {
     "name": "stderr",
     "output_type": "stream",
     "text": []
    },
    {
     "name": "stdout",
     "output_type": "stream",
     "text": [
      "Test:  {'accuracy': 0.4375}\n",
      "Training:  {'accuracy': 0.5396825396825397}\n"
     ]
    },
    {
     "name": "stderr",
     "output_type": "stream",
     "text": []
    },
    {
     "name": "stdout",
     "output_type": "stream",
     "text": [
      "Test:  {'accuracy': 0.4375}\n",
      "Training:  {'accuracy': 0.5555555555555556}\n"
     ]
    },
    {
     "name": "stderr",
     "output_type": "stream",
     "text": []
    },
    {
     "name": "stdout",
     "output_type": "stream",
     "text": [
      "Test:  {'accuracy': 0.5625}\n",
      "Training:  {'accuracy': 0.4603174603174603}\n"
     ]
    },
    {
     "name": "stderr",
     "output_type": "stream",
     "text": []
    },
    {
     "name": "stdout",
     "output_type": "stream",
     "text": [
      "Test:  {'accuracy': 0.4375}\n",
      "Training:  {'accuracy': 0.42857142857142855}\n"
     ]
    },
    {
     "name": "stderr",
     "output_type": "stream",
     "text": []
    },
    {
     "name": "stdout",
     "output_type": "stream",
     "text": [
      "Test:  {'accuracy': 0.5625}\n",
      "Training:  {'accuracy': 0.6349206349206349}\n"
     ]
    },
    {
     "name": "stderr",
     "output_type": "stream",
     "text": []
    },
    {
     "name": "stdout",
     "output_type": "stream",
     "text": [
      "Test:  {'accuracy': 0.4375}\n",
      "Training:  {'accuracy': 0.5555555555555556}\n"
     ]
    },
    {
     "name": "stderr",
     "output_type": "stream",
     "text": []
    },
    {
     "name": "stdout",
     "output_type": "stream",
     "text": [
      "Test:  {'accuracy': 0.4375}\n",
      "Training:  {'accuracy': 0.5396825396825397}\n"
     ]
    },
    {
     "name": "stderr",
     "output_type": "stream",
     "text": []
    },
    {
     "name": "stdout",
     "output_type": "stream",
     "text": [
      "Test:  {'accuracy': 0.4375}\n",
      "Training:  {'accuracy': 0.4444444444444444}\n"
     ]
    },
    {
     "name": "stderr",
     "output_type": "stream",
     "text": []
    },
    {
     "name": "stdout",
     "output_type": "stream",
     "text": [
      "Test:  {'accuracy': 0.4375}\n",
      "Training:  {'accuracy': 0.4603174603174603}\n"
     ]
    },
    {
     "name": "stderr",
     "output_type": "stream",
     "text": []
    },
    {
     "name": "stdout",
     "output_type": "stream",
     "text": [
      "Test:  {'accuracy': 0.4375}\n",
      "Training:  {'accuracy': 0.38095238095238093}\n"
     ]
    },
    {
     "name": "stderr",
     "output_type": "stream",
     "text": []
    },
    {
     "name": "stdout",
     "output_type": "stream",
     "text": [
      "Test:  {'accuracy': 0.4375}\n",
      "Training:  {'accuracy': 0.5079365079365079}\n"
     ]
    },
    {
     "name": "stderr",
     "output_type": "stream",
     "text": []
    },
    {
     "name": "stdout",
     "output_type": "stream",
     "text": [
      "Test:  {'accuracy': 0.4375}\n",
      "Training:  {'accuracy': 0.49206349206349204}\n"
     ]
    },
    {
     "name": "stderr",
     "output_type": "stream",
     "text": []
    },
    {
     "name": "stdout",
     "output_type": "stream",
     "text": [
      "Test:  {'accuracy': 0.5625}\n",
      "Training:  {'accuracy': 0.4603174603174603}\n"
     ]
    },
    {
     "name": "stderr",
     "output_type": "stream",
     "text": []
    },
    {
     "name": "stdout",
     "output_type": "stream",
     "text": [
      "Test:  {'accuracy': 0.4375}\n",
      "Training:  {'accuracy': 0.4126984126984127}\n"
     ]
    },
    {
     "name": "stderr",
     "output_type": "stream",
     "text": []
    },
    {
     "name": "stdout",
     "output_type": "stream",
     "text": [
      "Test:  {'accuracy': 0.4375}\n",
      "Training:  {'accuracy': 0.42857142857142855}\n"
     ]
    },
    {
     "name": "stderr",
     "output_type": "stream",
     "text": []
    },
    {
     "name": "stdout",
     "output_type": "stream",
     "text": [
      "Test:  {'accuracy': 0.4375}\n",
      "Training:  {'accuracy': 0.42857142857142855}\n"
     ]
    },
    {
     "name": "stderr",
     "output_type": "stream",
     "text": []
    },
    {
     "name": "stdout",
     "output_type": "stream",
     "text": [
      "Test:  {'accuracy': 0.4375}\n",
      "Training:  {'accuracy': 0.42857142857142855}\n"
     ]
    },
    {
     "name": "stderr",
     "output_type": "stream",
     "text": []
    },
    {
     "name": "stdout",
     "output_type": "stream",
     "text": [
      "Test:  {'accuracy': 0.4375}\n",
      "Training:  {'accuracy': 0.42857142857142855}\n"
     ]
    },
    {
     "name": "stderr",
     "output_type": "stream",
     "text": []
    },
    {
     "name": "stdout",
     "output_type": "stream",
     "text": [
      "Test:  {'accuracy': 0.4375}\n",
      "Training:  {'accuracy': 0.36507936507936506}\n"
     ]
    },
    {
     "name": "stderr",
     "output_type": "stream",
     "text": []
    },
    {
     "name": "stdout",
     "output_type": "stream",
     "text": [
      "Test:  {'accuracy': 0.4375}\n",
      "Training:  {'accuracy': 0.47619047619047616}\n"
     ]
    },
    {
     "name": "stderr",
     "output_type": "stream",
     "text": []
    },
    {
     "name": "stdout",
     "output_type": "stream",
     "text": [
      "Test:  {'accuracy': 0.4375}\n",
      "Training:  {'accuracy': 0.6190476190476191}\n"
     ]
    },
    {
     "name": "stderr",
     "output_type": "stream",
     "text": []
    },
    {
     "name": "stdout",
     "output_type": "stream",
     "text": [
      "Test:  {'accuracy': 0.5625}\n",
      "Training:  {'accuracy': 0.49206349206349204}\n"
     ]
    },
    {
     "name": "stderr",
     "output_type": "stream",
     "text": []
    },
    {
     "name": "stdout",
     "output_type": "stream",
     "text": [
      "Test:  {'accuracy': 0.5625}\n",
      "Training:  {'accuracy': 0.5555555555555556}\n"
     ]
    },
    {
     "name": "stderr",
     "output_type": "stream",
     "text": []
    },
    {
     "name": "stdout",
     "output_type": "stream",
     "text": [
      "Test:  {'accuracy': 0.4375}\n",
      "Training:  {'accuracy': 0.5873015873015873}\n"
     ]
    },
    {
     "name": "stderr",
     "output_type": "stream",
     "text": []
    },
    {
     "name": "stdout",
     "output_type": "stream",
     "text": [
      "Test:  {'accuracy': 0.4375}\n",
      "Training:  {'accuracy': 0.4444444444444444}\n"
     ]
    },
    {
     "name": "stderr",
     "output_type": "stream",
     "text": []
    },
    {
     "name": "stdout",
     "output_type": "stream",
     "text": [
      "Test:  {'accuracy': 0.5625}\n",
      "Training:  {'accuracy': 0.4603174603174603}\n"
     ]
    },
    {
     "name": "stderr",
     "output_type": "stream",
     "text": []
    },
    {
     "name": "stdout",
     "output_type": "stream",
     "text": [
      "Test:  {'accuracy': 0.4375}\n",
      "Training:  {'accuracy': 0.49206349206349204}\n"
     ]
    },
    {
     "name": "stderr",
     "output_type": "stream",
     "text": []
    },
    {
     "name": "stdout",
     "output_type": "stream",
     "text": [
      "Test:  {'accuracy': 0.4375}\n",
      "Training:  {'accuracy': 0.42857142857142855}\n"
     ]
    },
    {
     "name": "stderr",
     "output_type": "stream",
     "text": []
    },
    {
     "name": "stdout",
     "output_type": "stream",
     "text": [
      "Test:  {'accuracy': 0.4375}\n",
      "Training:  {'accuracy': 0.5555555555555556}\n"
     ]
    },
    {
     "name": "stderr",
     "output_type": "stream",
     "text": []
    },
    {
     "name": "stdout",
     "output_type": "stream",
     "text": [
      "Test:  {'accuracy': 0.4375}\n",
      "Training:  {'accuracy': 0.4126984126984127}\n"
     ]
    },
    {
     "name": "stderr",
     "output_type": "stream",
     "text": []
    },
    {
     "name": "stdout",
     "output_type": "stream",
     "text": [
      "Test:  {'accuracy': 0.4375}\n",
      "Training:  {'accuracy': 0.49206349206349204}\n"
     ]
    },
    {
     "name": "stderr",
     "output_type": "stream",
     "text": []
    },
    {
     "name": "stdout",
     "output_type": "stream",
     "text": [
      "Test:  {'accuracy': 0.4375}\n",
      "Training:  {'accuracy': 0.4603174603174603}\n"
     ]
    },
    {
     "name": "stderr",
     "output_type": "stream",
     "text": []
    },
    {
     "name": "stdout",
     "output_type": "stream",
     "text": [
      "Test:  {'accuracy': 0.4375}\n",
      "Training:  {'accuracy': 0.5555555555555556}\n"
     ]
    },
    {
     "name": "stderr",
     "output_type": "stream",
     "text": []
    },
    {
     "name": "stdout",
     "output_type": "stream",
     "text": [
      "Test:  {'accuracy': 0.4375}\n",
      "Training:  {'accuracy': 0.5238095238095238}\n"
     ]
    },
    {
     "name": "stderr",
     "output_type": "stream",
     "text": []
    },
    {
     "name": "stdout",
     "output_type": "stream",
     "text": [
      "Test:  {'accuracy': 0.4375}\n",
      "Training:  {'accuracy': 0.4444444444444444}\n"
     ]
    },
    {
     "name": "stderr",
     "output_type": "stream",
     "text": []
    },
    {
     "name": "stdout",
     "output_type": "stream",
     "text": [
      "Test:  {'accuracy': 0.4375}\n",
      "Training:  {'accuracy': 0.5714285714285714}\n"
     ]
    },
    {
     "name": "stderr",
     "output_type": "stream",
     "text": []
    },
    {
     "name": "stdout",
     "output_type": "stream",
     "text": [
      "Test:  {'accuracy': 0.4375}\n",
      "Training:  {'accuracy': 0.5079365079365079}\n"
     ]
    },
    {
     "name": "stderr",
     "output_type": "stream",
     "text": []
    },
    {
     "name": "stdout",
     "output_type": "stream",
     "text": [
      "Test:  {'accuracy': 0.4375}\n",
      "Training:  {'accuracy': 0.47619047619047616}\n"
     ]
    },
    {
     "name": "stderr",
     "output_type": "stream",
     "text": [
      "100%|██████████| 100/100 [04:35<00:00,  2.75s/it]"
     ]
    },
    {
     "name": "stdout",
     "output_type": "stream",
     "text": [
      "Test:  {'accuracy': 0.4375}\n"
     ]
    },
    {
     "name": "stderr",
     "output_type": "stream",
     "text": [
      "\n"
     ]
    }
   ],
   "source": [
    "for epoch in tqdm(range(epochs)):\n",
    "    \n",
    "    # TRAINING\n",
    "    model.train()\n",
    "\n",
    "    for batch in train_dl:\n",
    "\n",
    "        # forward pass\n",
    "        output = model(**batch)\n",
    "        loss = output.loss\n",
    "        \n",
    "        # metrics\n",
    "        logits = output.logits\n",
    "        preds = torch.round(logits)\n",
    "        metric.add_batch(predictions=preds, references=batch[\"labels\"])\n",
    "        \n",
    "        # backprop\n",
    "        accelerator.backward(loss)\n",
    "        optimizer.step()\n",
    "        scheduler.step()\n",
    "        optimizer.zero_grad()\n",
    "\n",
    "    print(\"Training: \", metric.compute())\n",
    "\n",
    "    \n",
    "    # TESTING\n",
    "    model.eval()\n",
    "\n",
    "    with torch.inference_mode():\n",
    "        for batch in test_dl:\n",
    "\n",
    "            # forward pass\n",
    "            output = model(**batch)\n",
    "            \n",
    "            # metrics\n",
    "            logits = output.logits\n",
    "            preds = torch.round(logits)\n",
    "            metric.add_batch(predictions=preds, references=batch[\"labels\"])\n",
    "\n",
    "    print(\"Test: \", metric.compute())"
   ]
  }
 ],
 "metadata": {
  "kernelspec": {
   "display_name": "base",
   "language": "python",
   "name": "python3"
  },
  "language_info": {
   "codemirror_mode": {
    "name": "ipython",
    "version": 3
   },
   "file_extension": ".py",
   "mimetype": "text/x-python",
   "name": "python",
   "nbconvert_exporter": "python",
   "pygments_lexer": "ipython3",
   "version": "3.12.3"
  }
 },
 "nbformat": 4,
 "nbformat_minor": 2
}
