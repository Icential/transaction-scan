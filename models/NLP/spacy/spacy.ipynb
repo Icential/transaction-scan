{
 "cells": [
  {
   "cell_type": "code",
   "execution_count": 9,
   "metadata": {},
   "outputs": [],
   "source": [
    "import spacy\n",
    "from spacy.tokens import DocBin\n",
    "import json\n",
    "from sklearn.model_selection import train_test_split"
   ]
  },
  {
   "cell_type": "code",
   "execution_count": 2,
   "metadata": {},
   "outputs": [
    {
     "data": {
      "text/plain": [
       "48"
      ]
     },
     "execution_count": 2,
     "metadata": {},
     "output_type": "execute_result"
    }
   ],
   "source": [
    "data = json.load(open(\"annotations.json\"))\n",
    "\n",
    "len(data)"
   ]
  },
  {
   "cell_type": "code",
   "execution_count": 12,
   "metadata": {},
   "outputs": [],
   "source": [
    "def spacify(data):\n",
    "    nlp = spacy.blank(\"id\")\n",
    "    db = DocBin()\n",
    "\n",
    "    for text, annot in data:\n",
    "        doc = nlp.make_doc(text)\n",
    "        annot = annot[\"entities\"]\n",
    "\n",
    "        ents, ent_indices = [], []\n",
    "\n",
    "        for start, end, label in annot:\n",
    "            skip_entity = False\n",
    "            for i in range(start, end):\n",
    "                if i in ent_indices:\n",
    "                    skip_entity = True\n",
    "                    break\n",
    "            if skip_entity:\n",
    "                continue\n",
    "\n",
    "            ent_indices = ent_indices + list(range(start, end))\n",
    "\n",
    "            try:\n",
    "                span = doc.char_span(start, end, label=label, alignment_mode=\"strict\")\n",
    "            except:\n",
    "                continue\n",
    "\n",
    "            if span is None:\n",
    "                err = str([start, end]) + \"  \" + str(text) + \"\\n\"\n",
    "                print(err)\n",
    "            else:\n",
    "                ents.append(span)\n",
    "        \n",
    "        try:\n",
    "            doc.ents = ents\n",
    "            db.add(doc)\n",
    "        except:\n",
    "            pass\n",
    "\n",
    "    return db"
   ]
  },
  {
   "cell_type": "code",
   "execution_count": 13,
   "metadata": {},
   "outputs": [
    {
     "data": {
      "text/plain": [
       "(38, 10)"
      ]
     },
     "execution_count": 13,
     "metadata": {},
     "output_type": "execute_result"
    }
   ],
   "source": [
    "train_data, test_data = train_test_split(data, test_size=0.2)\n",
    "len(train_data), len(test_data)"
   ]
  },
  {
   "cell_type": "code",
   "execution_count": 14,
   "metadata": {},
   "outputs": [],
   "source": [
    "db = spacify(train_data)\n",
    "db.to_disk(\"train_data.spacy\")\n",
    "\n",
    "db = spacify(test_data)\n",
    "db.to_disk(\"test_data.spacy\")"
   ]
  },
  {
   "cell_type": "markdown",
   "metadata": {},
   "source": [
    "```cmd\n",
    "py -m spacy train config.cfg --output output --paths.train train_data.spacy --paths.dev test_data.spacy --gpu-id 0\n",
    "```"
   ]
  }
 ],
 "metadata": {
  "kernelspec": {
   "display_name": "base",
   "language": "python",
   "name": "python3"
  },
  "language_info": {
   "codemirror_mode": {
    "name": "ipython",
    "version": 3
   },
   "file_extension": ".py",
   "mimetype": "text/x-python",
   "name": "python",
   "nbconvert_exporter": "python",
   "pygments_lexer": "ipython3",
   "version": "3.9.19"
  }
 },
 "nbformat": 4,
 "nbformat_minor": 2
}
