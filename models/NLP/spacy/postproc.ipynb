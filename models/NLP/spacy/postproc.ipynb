{
 "cells": [
  {
   "cell_type": "code",
   "execution_count": 1,
   "metadata": {},
   "outputs": [],
   "source": [
    "import spacy"
   ]
  },
  {
   "cell_type": "code",
   "execution_count": 20,
   "metadata": {},
   "outputs": [
    {
     "name": "stderr",
     "output_type": "stream",
     "text": [
      "c:\\Users\\paoma\\miniconda3\\lib\\site-packages\\spacy_transformers\\layers\\hf_shim.py:124: FutureWarning: You are using `torch.load` with `weights_only=False` (the current default value), which uses the default pickle module implicitly. It is possible to construct malicious pickle data which will execute arbitrary code during unpickling (See https://github.com/pytorch/pytorch/blob/main/SECURITY.md#untrusted-models for more details). In a future release, the default value for `weights_only` will be flipped to `True`. This limits the functions that could be executed during unpickling. Arbitrary objects will no longer be allowed to be loaded via this mode unless they are explicitly allowlisted by the user via `torch.serialization.add_safe_globals`. We recommend you start setting `weights_only=True` for any use case where you don't have full control of the loaded file. Please open an issue on GitHub for any issues related to this experimental feature.\n",
      "  self._model.load_state_dict(torch.load(filelike, map_location=device))\n"
     ]
    }
   ],
   "source": [
    "nlp = spacy.load(\"output/model-best\")"
   ]
  },
  {
   "cell_type": "code",
   "execution_count": 70,
   "metadata": {},
   "outputs": [
    {
     "data": {
      "text/plain": [
       "[('kontrak', 'SUBJECT'),\n",
       " ('tangerang', 'VALUE'),\n",
       " ('jakarta', 'VALUE'),\n",
       " ('alam sutera', 'VALUE')]"
      ]
     },
     "execution_count": 70,
     "metadata": {},
     "output_type": "execute_result"
    }
   ],
   "source": [
    "text = \"kontrak yg dr tangerang, jakarta dan alam sutera\"\n",
    "\n",
    "doc = nlp(text)\n",
    "\n",
    "[(w.text, w.label_) for w in doc.ents]"
   ]
  },
  {
   "cell_type": "markdown",
   "metadata": {},
   "source": [
    "Four labels for now: subject, attribute, logic and value\n",
    "\n",
    "```sql\n",
    "SELECT * FROM (subject) WHERE (attribute) (logic) '(value)'\n",
    "```"
   ]
  },
  {
   "cell_type": "code",
   "execution_count": 71,
   "metadata": {},
   "outputs": [
    {
     "name": "stdout",
     "output_type": "stream",
     "text": [
      "SELECT * FROM kontrak WHERE location in ('tangerang','jakarta','alam sutera');\n"
     ]
    }
   ],
   "source": [
    "subject = \"\"; attribute = \"\"; logic = \"\"; values = []\n",
    "\n",
    "# transfer all entities into a single array\n",
    "entities = [(w.text, w.label_) for w in doc.ents]\n",
    "\n",
    "# get the subject (assume only one)\n",
    "for w in entities:\n",
    "    if w[1] == \"SUBJECT\":\n",
    "        subject = w[0]\n",
    "        break\n",
    "\n",
    "# get the very first attribute\n",
    "for w in entities:\n",
    "    if w[1] == \"ATTRIBUTE\":\n",
    "        old_att = w[0]\n",
    "        break\n",
    "\n",
    "# get the very first logic\n",
    "for w in entities:\n",
    "    if w[1] == \"LOGIC\":\n",
    "        old_logic = w[0]\n",
    "        break\n",
    "\n",
    "\n",
    "# create an array that holds attribute, logic and value for a single SQL command\n",
    "arguments = []\n",
    "\n",
    "entities.append((\"\", \"ATTRIBUTE\")) # to trigger append for last entry\n",
    "\n",
    "for w in entities:\n",
    "    if w[1] == \"ATTRIBUTE\":\n",
    "        if old_att == w[0]:\n",
    "            attribute = w[0]\n",
    "\n",
    "            if attribute[-3:] == \"nya\":\n",
    "                attribute = attribute[:-3]\n",
    "\n",
    "            old_att = attribute\n",
    "        else:\n",
    "            arguments.append([attribute, logic, values])\n",
    "            attribute = \"\"; logic = \"\"; values = []\n",
    "    if w[1] == \"LOGIC\":\n",
    "        if old_logic == w[0] or w[0] == \"sama\":\n",
    "            logic = w[0]\n",
    "\n",
    "            if logic == \"kurang\" or \"bawah\" in logic:\n",
    "                logic = \"<\"\n",
    "                if logic == \"sama\":\n",
    "                    logic += \"=\"\n",
    "            elif logic == \"lebih\" or \"atas\" in logic:\n",
    "                logic = \">\"\n",
    "                if logic == \"sama\":\n",
    "                    logic += \"=\"\n",
    "            elif \"antara\" in logic:\n",
    "                logic = \"AND\" \n",
    "\n",
    "            old_logic = logic\n",
    "        else:\n",
    "            arguments.append([attribute, logic, values])\n",
    "            attribute = \"\"; logic = \"\"; values = []\n",
    "    if w[1] == \"VALUE\":\n",
    "        values.append(w[0])\n",
    "\n",
    "# clean up empty values\n",
    "for arg in arguments:\n",
    "    if arg[0] == \"\":\n",
    "        arg[0] = \"location\"\n",
    "    if arg[1] == \"\":\n",
    "        arg[1] = \"in\"\n",
    "\n",
    "\n",
    "# create sql statement\n",
    "sql = f\"SELECT * FROM {subject} WHERE\"\n",
    "\n",
    "for arg in arguments:\n",
    "    # for between arguments\n",
    "    if arg[1] == \"AND\":\n",
    "        sql += f\" {arg[0]} BETWEEN '{arg[2][0]}' {arg[1]} '{arg[2][1]}'\"\n",
    "    # for others\n",
    "    else:\n",
    "        vals = \"(\"\n",
    "        for val in arg[2]:\n",
    "            if val.isnumeric():\n",
    "                vals += val + \",\"\n",
    "            else:\n",
    "                vals += f\"'{val}',\"\n",
    "        vals = vals[:-1] + \")\"\n",
    "\n",
    "        sql += f\" {arg[0]} {arg[1]} {vals}\"\n",
    "\n",
    "sql += \";\" # to define closure of an sql statement\n",
    "\n",
    "print(sql)"
   ]
  }
 ],
 "metadata": {
  "kernelspec": {
   "display_name": "base",
   "language": "python",
   "name": "python3"
  },
  "language_info": {
   "codemirror_mode": {
    "name": "ipython",
    "version": 3
   },
   "file_extension": ".py",
   "mimetype": "text/x-python",
   "name": "python",
   "nbconvert_exporter": "python",
   "pygments_lexer": "ipython3",
   "version": "3.9.19"
  }
 },
 "nbformat": 4,
 "nbformat_minor": 2
}
