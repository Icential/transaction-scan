{
 "cells": [
  {
   "cell_type": "code",
   "execution_count": 1,
   "metadata": {},
   "outputs": [],
   "source": [
    "import spacy"
   ]
  },
  {
   "cell_type": "code",
   "execution_count": 2,
   "metadata": {},
   "outputs": [
    {
     "name": "stderr",
     "output_type": "stream",
     "text": [
      "c:\\Users\\paoma\\miniconda3\\lib\\site-packages\\tqdm\\auto.py:21: TqdmWarning: IProgress not found. Please update jupyter and ipywidgets. See https://ipywidgets.readthedocs.io/en/stable/user_install.html\n",
      "  from .autonotebook import tqdm as notebook_tqdm\n",
      "c:\\Users\\paoma\\miniconda3\\lib\\site-packages\\spacy_transformers\\layers\\hf_shim.py:124: FutureWarning: You are using `torch.load` with `weights_only=False` (the current default value), which uses the default pickle module implicitly. It is possible to construct malicious pickle data which will execute arbitrary code during unpickling (See https://github.com/pytorch/pytorch/blob/main/SECURITY.md#untrusted-models for more details). In a future release, the default value for `weights_only` will be flipped to `True`. This limits the functions that could be executed during unpickling. Arbitrary objects will no longer be allowed to be loaded via this mode unless they are explicitly allowlisted by the user via `torch.serialization.add_safe_globals`. We recommend you start setting `weights_only=True` for any use case where you don't have full control of the loaded file. Please open an issue on GitHub for any issues related to this experimental feature.\n",
      "  self._model.load_state_dict(torch.load(filelike, map_location=device))\n"
     ]
    }
   ],
   "source": [
    "nlp = spacy.load(\"output/model-best\")"
   ]
  },
  {
   "cell_type": "code",
   "execution_count": 9,
   "metadata": {},
   "outputs": [
    {
     "name": "stderr",
     "output_type": "stream",
     "text": [
      "c:\\Users\\paoma\\miniconda3\\lib\\site-packages\\thinc\\shims\\pytorch.py:114: FutureWarning: `torch.cuda.amp.autocast(args...)` is deprecated. Please use `torch.amp.autocast('cuda', args...)` instead.\n",
      "  with torch.cuda.amp.autocast(self._mixed_precision):\n"
     ]
    },
    {
     "data": {
      "text/plain": [
       "[('kontrak', 'SUBJECT'),\n",
       " ('tenornya', 'ATTRIBUTE'),\n",
       " ('atas', 'LOGIC'),\n",
       " ('12 bulan', 'VALUE'),\n",
       " ('dan', 'CONJUNCTION'),\n",
       " ('bunga', 'ATTRIBUTE'),\n",
       " ('dibawah', 'LOGIC'),\n",
       " ('5%', 'VALUE')]"
      ]
     },
     "execution_count": 9,
     "metadata": {},
     "output_type": "execute_result"
    }
   ],
   "source": [
    "text = \"tampilkan kontrak yang tenornya di atas 12 bulan dan bunga yang dibawah 5%\"\n",
    "\n",
    "doc = nlp(text)\n",
    "\n",
    "[(w.text, w.label_) for w in doc.ents]"
   ]
  },
  {
   "cell_type": "markdown",
   "metadata": {},
   "source": [
    "Six labels for now: subject, attribute, logic, value, location and conjunction\n",
    "\n",
    "```sql\n",
    "SELECT * FROM (subject) WHERE (attribute) (logic) '(value or location)' (conjunction) (attribute) (logic) '(value or location)'\n",
    "```\n",
    "\n",
    "Assume that all texts are in the order `(attribute) (logic) (value)` or `(location)`"
   ]
  },
  {
   "cell_type": "code",
   "execution_count": 17,
   "metadata": {},
   "outputs": [
    {
     "name": "stdout",
     "output_type": "stream",
     "text": [
      "SELECT * FROM kontrak WHERE tenor > (12) AND bunga < (0.05);\n"
     ]
    }
   ],
   "source": [
    "subject = \"\"; attribute = \"\"; old_att = \"\"; old_logic = \"\"; logic = \"\"; values = []; locations = []\n",
    "\n",
    "# transfer all entities into a single array\n",
    "entities = [(w.text, w.label_) for w in doc.ents]\n",
    "\n",
    "# get the subject (assume only one)\n",
    "for w in entities:\n",
    "    if w[1] == \"SUBJECT\":\n",
    "        subject = w[0]\n",
    "        break\n",
    "\n",
    "# get the very first attribute\n",
    "for w in entities:\n",
    "    if w[1] == \"ATTRIBUTE\":\n",
    "        old_att = w[0]\n",
    "        break\n",
    "\n",
    "# get the very first logic\n",
    "for w in entities:\n",
    "    if w[1] == \"LOGIC\":\n",
    "        old_logic = w[0]\n",
    "        break\n",
    "\n",
    "# remove bad unnecessary conjunctions\n",
    "last_cat = entities[0][1]\n",
    "for w in entities:\n",
    "    if (last_cat != \"VALUE\" and w[1] == \"CONJUNCTION\") and (last_cat != \"LOCATION\" and w[1] == \"CONJUNCTION\"):\n",
    "        entities.remove(w)\n",
    "\n",
    "    last_cat = w[1]\n",
    "\n",
    "\n",
    "# create an array that holds attribute, logic and value for a single SQL argument\n",
    "arguments = []\n",
    "\n",
    "entities.append((\"\", \"ATTRIBUTE\")) # to trigger append for last entry\n",
    "\n",
    "for w in entities:\n",
    "    if w[1] == \"ATTRIBUTE\":\n",
    "        if old_att != w[0] or locations != []:\n",
    "            if values != []:\n",
    "                arguments.append([attribute, logic, values])\n",
    "                attribute = \"\"; logic = \"\"; values = []\n",
    "            elif locations != []:\n",
    "                arguments.append([attribute, logic, locations])\n",
    "                attribute = \"\"; logic = \"\"; locations = []\n",
    "\n",
    "        attribute = w[0]\n",
    "\n",
    "        if attribute[-3:] == \"nya\":\n",
    "            attribute = attribute[:-3]\n",
    "\n",
    "        old_att = attribute\n",
    "    elif w[1] == \"LOGIC\":\n",
    "        if w[0] == \"kurang\" or \"bawah\" in w[0]:\n",
    "            logic = \"<\"\n",
    "        elif w[0] == \"lebih\" or \"atas\" in w[0]:\n",
    "            logic = \">\"\n",
    "        elif w[0] == \"sama\":\n",
    "            logic += \"=\"\n",
    "        elif \"antara\" in w[0]:\n",
    "            logic = \"AND\" \n",
    "\n",
    "        old_logic = w[0]\n",
    "    elif w[1] == \"VALUE\":\n",
    "        # if locations != []:\n",
    "        #     arguments.append([attribute, logic, locations])\n",
    "        #     attribute = \"\"; logic = \"\"; values = []\n",
    "        value = w[0]\n",
    "\n",
    "        if \"tahun\" in value or \"bulan\" in value:\n",
    "            value = value[:-6]\n",
    "        elif \"thn\" in value or \"bln\" in value:\n",
    "            value = value[:-4]\n",
    "        elif \"%\" in value:\n",
    "            value = value.strip()\n",
    "            value = str(int(value[:-1]) / 100)\n",
    "\n",
    "        values.append(value)\n",
    "    elif w[1] == \"LOCATION\":\n",
    "        if values != []:\n",
    "            arguments.append([attribute, logic, values])\n",
    "            attribute = \"\"; logic = \"\"; values = []\n",
    "\n",
    "        locations.append(w[0])\n",
    "\n",
    "        attribute = \"location\"\n",
    "        logic = \"in\"\n",
    "    elif w[1] == \"CONJUNCTION\":\n",
    "        if values != []:\n",
    "            arguments.append([attribute, logic, values])\n",
    "            attribute = \"\"; logic = \"\"; values = []\n",
    "        elif locations != []:\n",
    "            arguments.append([attribute, logic, locations])\n",
    "            attribute = \"\"; logic = \"\"; locations = []\n",
    "\n",
    "        arguments.append(w[0])\n",
    "\n",
    "# clean up empty values\n",
    "for arg in arguments:\n",
    "    if arg[0] == \"\":\n",
    "        arg[0] = arguments[0][0]\n",
    "    if arg[1] == \"\":\n",
    "        arg[1] = \"in\"\n",
    "\n",
    "\n",
    "# create sql statement\n",
    "sql = f\"SELECT * FROM {subject} WHERE\"\n",
    "\n",
    "for arg in arguments:\n",
    "    # for arguments (list)\n",
    "    if isinstance(arg, list):\n",
    "        # for between arguments\n",
    "        if arg[1] == \"AND\":\n",
    "            sql += f\" {arg[0]} BETWEEN '{arg[2][0]}' {arg[1]} '{arg[2][1]}'\"\n",
    "        # for other arguments\n",
    "        else:\n",
    "            vals = \"(\"\n",
    "            for val in arg[2]:\n",
    "                int_val = val.replace(\".\", \"\").replace(\",\", \"\")\n",
    "                if int_val.isnumeric():\n",
    "                    vals += val + \",\"\n",
    "                else:\n",
    "                    vals += f\"'{val}',\"\n",
    "            vals = vals[:-1] + \")\"\n",
    "\n",
    "            sql += f\" {arg[0]} {arg[1]} {vals}\"\n",
    "    \n",
    "    # for conjunctions (string)\n",
    "    elif isinstance(arg, str):\n",
    "        if arg == \"dan\" or arg == \"tapi\":\n",
    "            sql += \" AND\"\n",
    "        elif arg == \"atau\":\n",
    "            sql += \" OR\"\n",
    "\n",
    "sql += \";\" # to define closure of an sql statement\n",
    "\n",
    "print(sql)"
   ]
  },
  {
   "cell_type": "code",
   "execution_count": 15,
   "metadata": {},
   "outputs": [
    {
     "data": {
      "text/plain": [
       "True"
      ]
     },
     "execution_count": 15,
     "metadata": {},
     "output_type": "execute_result"
    }
   ],
   "source": [
    "\"50\".isdecimal()"
   ]
  }
 ],
 "metadata": {
  "kernelspec": {
   "display_name": "base",
   "language": "python",
   "name": "python3"
  },
  "language_info": {
   "codemirror_mode": {
    "name": "ipython",
    "version": 3
   },
   "file_extension": ".py",
   "mimetype": "text/x-python",
   "name": "python",
   "nbconvert_exporter": "python",
   "pygments_lexer": "ipython3",
   "version": "3.9.19"
  }
 },
 "nbformat": 4,
 "nbformat_minor": 2
}
