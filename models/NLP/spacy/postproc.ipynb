{
 "cells": [
  {
   "cell_type": "code",
   "execution_count": 6,
   "metadata": {},
   "outputs": [],
   "source": [
    "import spacy"
   ]
  },
  {
   "cell_type": "code",
   "execution_count": 15,
   "metadata": {},
   "outputs": [],
   "source": [
    "nlp = spacy.load(\"output/model-last\")"
   ]
  },
  {
   "cell_type": "code",
   "execution_count": 26,
   "metadata": {},
   "outputs": [
    {
     "name": "stderr",
     "output_type": "stream",
     "text": [
      "c:\\Users\\paoma\\miniconda3\\lib\\site-packages\\thinc\\shims\\pytorch.py:114: FutureWarning: `torch.cuda.amp.autocast(args...)` is deprecated. Please use `torch.amp.autocast('cuda', args...)` instead.\n",
      "  with torch.cuda.amp.autocast(self._mixed_precision):\n"
     ]
    },
    {
     "data": {
      "text/plain": [
       "[('kontrak', 'SUBJECT'),\n",
       " ('bunganya', 'ATTRIBUTE'),\n",
       " ('lebih', 'LOGIC'),\n",
       " ('15%', 'VALUE')]"
      ]
     },
     "execution_count": 26,
     "metadata": {},
     "output_type": "execute_result"
    }
   ],
   "source": [
    "text = \"kontrak yg bunganya lebih dari 15%\"\n",
    "\n",
    "doc = nlp(text)\n",
    "\n",
    "[(w.text, w.label_) for w in doc.ents]"
   ]
  },
  {
   "cell_type": "markdown",
   "metadata": {},
   "source": [
    "Five labels for now: subject, attribute, logic, value and location (same place as value, will instantly make attribute = location)\n",
    "\n",
    "```sql\n",
    "SELECT * FROM (subject) WHERE (attribute) (logic) '(value)'\n",
    "```"
   ]
  },
  {
   "cell_type": "code",
   "execution_count": 29,
   "metadata": {},
   "outputs": [
    {
     "name": "stdout",
     "output_type": "stream",
     "text": [
      "SELECT * FROM kontrak WHERE bunga > '15%'\n"
     ]
    }
   ],
   "source": [
    "subject = \"\"; attribute = \"\"; logic = \"\"; value = \"\"; location = \"\"\n",
    "\n",
    "for w in doc.ents:\n",
    "    if w.label_ == \"SUBJECT\":\n",
    "        subject = w.text\n",
    "    if w.label_ == \"ATTRIBUTE\":\n",
    "        attribute = w.text\n",
    "    if w.label_ == \"LOGIC\":\n",
    "        logic = w.text\n",
    "    if w.label_ == \"VALUE\" or w.label_ == \"LOCATION\":\n",
    "        value = w.text\n",
    "    if w.label_ == \"LOCATION\":\n",
    "        location = w.text\n",
    "\n",
    "if location != \"\":\n",
    "    attribute = \"location\"\n",
    "\n",
    "if logic == \"\":\n",
    "    logic = \"=\"\n",
    "elif logic == \"kurang\" or logic == \"bawah\":\n",
    "    logic = \"<\"\n",
    "elif logic == \"lebih\" or logic == \"atas\" or logic:\n",
    "    logic = \">\"\n",
    "\n",
    "if attribute[-3:] == \"nya\":\n",
    "    attribute = attribute[:-3]\n",
    "\n",
    "sql = f\"SELECT * FROM {subject} WHERE {attribute} {logic} '{value}'\"\n",
    "print(sql)"
   ]
  }
 ],
 "metadata": {
  "kernelspec": {
   "display_name": "base",
   "language": "python",
   "name": "python3"
  },
  "language_info": {
   "codemirror_mode": {
    "name": "ipython",
    "version": 3
   },
   "file_extension": ".py",
   "mimetype": "text/x-python",
   "name": "python",
   "nbconvert_exporter": "python",
   "pygments_lexer": "ipython3",
   "version": "3.9.19"
  }
 },
 "nbformat": 4,
 "nbformat_minor": 2
}
