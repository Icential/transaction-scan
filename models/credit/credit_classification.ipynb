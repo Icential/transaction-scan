{
 "cells": [
  {
   "cell_type": "markdown",
   "metadata": {},
   "source": [
    "### General Concept"
   ]
  },
  {
   "cell_type": "markdown",
   "metadata": {},
   "source": [
    "Given a dataset with several features related to credit score, create a model that predicts the credit score according to the features"
   ]
  },
  {
   "cell_type": "markdown",
   "metadata": {},
   "source": [
    "### 1. Process Data"
   ]
  },
  {
   "cell_type": "code",
   "execution_count": 103,
   "metadata": {},
   "outputs": [],
   "source": [
    "import torch\n",
    "from torch import nn\n",
    "import numpy as np\n",
    "import matplotlib.pyplot as plt\n",
    "import pandas as pd\n",
    "from sklearn.preprocessing import LabelEncoder\n",
    "from sklearn.model_selection import train_test_split\n",
    "from sklearn.preprocessing import StandardScaler"
   ]
  },
  {
   "cell_type": "code",
   "execution_count": 104,
   "metadata": {},
   "outputs": [
    {
     "data": {
      "text/plain": [
       "'cuda'"
      ]
     },
     "execution_count": 104,
     "metadata": {},
     "output_type": "execute_result"
    }
   ],
   "source": [
    "# set which device to use first\n",
    "device = \"cuda\" if torch.cuda.is_available() else \"cpu\"\n",
    "device"
   ]
  },
  {
   "cell_type": "code",
   "execution_count": 105,
   "metadata": {},
   "outputs": [
    {
     "data": {
      "text/html": [
       "<div>\n",
       "<style scoped>\n",
       "    .dataframe tbody tr th:only-of-type {\n",
       "        vertical-align: middle;\n",
       "    }\n",
       "\n",
       "    .dataframe tbody tr th {\n",
       "        vertical-align: top;\n",
       "    }\n",
       "\n",
       "    .dataframe thead th {\n",
       "        text-align: right;\n",
       "    }\n",
       "</style>\n",
       "<table border=\"1\" class=\"dataframe\">\n",
       "  <thead>\n",
       "    <tr style=\"text-align: right;\">\n",
       "      <th></th>\n",
       "      <th>Age</th>\n",
       "      <th>Gender</th>\n",
       "      <th>Income</th>\n",
       "      <th>Education</th>\n",
       "      <th>Marital Status</th>\n",
       "      <th>Number of Children</th>\n",
       "      <th>Home Ownership</th>\n",
       "      <th>Credit Score</th>\n",
       "    </tr>\n",
       "  </thead>\n",
       "  <tbody>\n",
       "    <tr>\n",
       "      <th>0</th>\n",
       "      <td>25</td>\n",
       "      <td>Female</td>\n",
       "      <td>50000</td>\n",
       "      <td>Bachelor's Degree</td>\n",
       "      <td>Single</td>\n",
       "      <td>0</td>\n",
       "      <td>Rented</td>\n",
       "      <td>High</td>\n",
       "    </tr>\n",
       "    <tr>\n",
       "      <th>1</th>\n",
       "      <td>30</td>\n",
       "      <td>Male</td>\n",
       "      <td>100000</td>\n",
       "      <td>Master's Degree</td>\n",
       "      <td>Married</td>\n",
       "      <td>2</td>\n",
       "      <td>Owned</td>\n",
       "      <td>High</td>\n",
       "    </tr>\n",
       "    <tr>\n",
       "      <th>2</th>\n",
       "      <td>35</td>\n",
       "      <td>Female</td>\n",
       "      <td>75000</td>\n",
       "      <td>Doctorate</td>\n",
       "      <td>Married</td>\n",
       "      <td>1</td>\n",
       "      <td>Owned</td>\n",
       "      <td>High</td>\n",
       "    </tr>\n",
       "    <tr>\n",
       "      <th>3</th>\n",
       "      <td>40</td>\n",
       "      <td>Male</td>\n",
       "      <td>125000</td>\n",
       "      <td>High School Diploma</td>\n",
       "      <td>Single</td>\n",
       "      <td>0</td>\n",
       "      <td>Owned</td>\n",
       "      <td>High</td>\n",
       "    </tr>\n",
       "    <tr>\n",
       "      <th>4</th>\n",
       "      <td>45</td>\n",
       "      <td>Female</td>\n",
       "      <td>100000</td>\n",
       "      <td>Bachelor's Degree</td>\n",
       "      <td>Married</td>\n",
       "      <td>3</td>\n",
       "      <td>Owned</td>\n",
       "      <td>High</td>\n",
       "    </tr>\n",
       "  </tbody>\n",
       "</table>\n",
       "</div>"
      ],
      "text/plain": [
       "   Age  Gender  Income            Education Marital Status  \\\n",
       "0   25  Female   50000    Bachelor's Degree         Single   \n",
       "1   30    Male  100000      Master's Degree        Married   \n",
       "2   35  Female   75000            Doctorate        Married   \n",
       "3   40    Male  125000  High School Diploma         Single   \n",
       "4   45  Female  100000    Bachelor's Degree        Married   \n",
       "\n",
       "   Number of Children Home Ownership Credit Score  \n",
       "0                   0         Rented         High  \n",
       "1                   2          Owned         High  \n",
       "2                   1          Owned         High  \n",
       "3                   0          Owned         High  \n",
       "4                   3          Owned         High  "
      ]
     },
     "execution_count": 105,
     "metadata": {},
     "output_type": "execute_result"
    }
   ],
   "source": [
    "# put data into dataframe\n",
    "df = pd.read_csv(\"creditscores.csv\")\n",
    "\n",
    "df.head()"
   ]
  },
  {
   "cell_type": "code",
   "execution_count": 106,
   "metadata": {},
   "outputs": [
    {
     "data": {
      "text/html": [
       "<div>\n",
       "<style scoped>\n",
       "    .dataframe tbody tr th:only-of-type {\n",
       "        vertical-align: middle;\n",
       "    }\n",
       "\n",
       "    .dataframe tbody tr th {\n",
       "        vertical-align: top;\n",
       "    }\n",
       "\n",
       "    .dataframe thead th {\n",
       "        text-align: right;\n",
       "    }\n",
       "</style>\n",
       "<table border=\"1\" class=\"dataframe\">\n",
       "  <thead>\n",
       "    <tr style=\"text-align: right;\">\n",
       "      <th></th>\n",
       "      <th>Age</th>\n",
       "      <th>Gender</th>\n",
       "      <th>Income</th>\n",
       "      <th>Education</th>\n",
       "      <th>Marital Status</th>\n",
       "      <th>Number of Children</th>\n",
       "      <th>Home Ownership</th>\n",
       "      <th>Credit Score</th>\n",
       "    </tr>\n",
       "  </thead>\n",
       "  <tbody>\n",
       "    <tr>\n",
       "      <th>0</th>\n",
       "      <td>25</td>\n",
       "      <td>0</td>\n",
       "      <td>50000</td>\n",
       "      <td>1</td>\n",
       "      <td>1</td>\n",
       "      <td>0</td>\n",
       "      <td>1</td>\n",
       "      <td>1</td>\n",
       "    </tr>\n",
       "    <tr>\n",
       "      <th>1</th>\n",
       "      <td>30</td>\n",
       "      <td>1</td>\n",
       "      <td>100000</td>\n",
       "      <td>4</td>\n",
       "      <td>0</td>\n",
       "      <td>2</td>\n",
       "      <td>0</td>\n",
       "      <td>1</td>\n",
       "    </tr>\n",
       "    <tr>\n",
       "      <th>2</th>\n",
       "      <td>35</td>\n",
       "      <td>0</td>\n",
       "      <td>75000</td>\n",
       "      <td>2</td>\n",
       "      <td>0</td>\n",
       "      <td>1</td>\n",
       "      <td>0</td>\n",
       "      <td>1</td>\n",
       "    </tr>\n",
       "    <tr>\n",
       "      <th>3</th>\n",
       "      <td>40</td>\n",
       "      <td>1</td>\n",
       "      <td>125000</td>\n",
       "      <td>3</td>\n",
       "      <td>1</td>\n",
       "      <td>0</td>\n",
       "      <td>0</td>\n",
       "      <td>1</td>\n",
       "    </tr>\n",
       "    <tr>\n",
       "      <th>4</th>\n",
       "      <td>45</td>\n",
       "      <td>0</td>\n",
       "      <td>100000</td>\n",
       "      <td>1</td>\n",
       "      <td>0</td>\n",
       "      <td>3</td>\n",
       "      <td>0</td>\n",
       "      <td>1</td>\n",
       "    </tr>\n",
       "  </tbody>\n",
       "</table>\n",
       "</div>"
      ],
      "text/plain": [
       "   Age  Gender  Income  Education  Marital Status  Number of Children  \\\n",
       "0   25       0   50000          1               1                   0   \n",
       "1   30       1  100000          4               0                   2   \n",
       "2   35       0   75000          2               0                   1   \n",
       "3   40       1  125000          3               1                   0   \n",
       "4   45       0  100000          1               0                   3   \n",
       "\n",
       "   Home Ownership  Credit Score  \n",
       "0               1             1  \n",
       "1               0             1  \n",
       "2               0             1  \n",
       "3               0             1  \n",
       "4               0             1  "
      ]
     },
     "execution_count": 106,
     "metadata": {},
     "output_type": "execute_result"
    }
   ],
   "source": [
    "pure_df = df.copy()\n",
    "\n",
    "# create label encoder to make strings into categorized numericals\n",
    "le = LabelEncoder()\n",
    "\n",
    "# list of columns needed to be encoded\n",
    "le_cols = [\"Gender\", \"Education\", \"Marital Status\", \"Home Ownership\", \"Credit Score\"]\n",
    "\n",
    "# encode every listed column\n",
    "for column in df.columns:\n",
    "    if column in le_cols:\n",
    "        le.fit(df[column])\n",
    "        df[column] = le.transform(df[column])\n",
    "\n",
    "\n",
    "df.head()"
   ]
  },
  {
   "cell_type": "code",
   "execution_count": 107,
   "metadata": {},
   "outputs": [],
   "source": [
    "# split data\n",
    "X_train, X_test, y_train, y_test = train_test_split(df.drop([\"Credit Score\"], axis=1), \n",
    "                                                    df[\"Credit Score\"], \n",
    "                                                    test_size=0.2, \n",
    "                                                    random_state=53)\n",
    "\n",
    "# normalize features\n",
    "scaler = StandardScaler()\n",
    "scaler.fit(X_train)\n",
    "X_train = scaler.transform(X_train)\n",
    "X_test = scaler.transform(X_test)\n",
    "\n",
    "# convert data to pytorch tensors and to device\n",
    "X_train = torch.tensor(X_train).to(device).type(torch.float32)\n",
    "X_test = torch.tensor(X_test).to(device).type(torch.float32)\n",
    "y_train = torch.from_numpy(y_train.values).to(device).type(torch.float32)\n",
    "y_test = torch.from_numpy(y_test.values).to(device).type(torch.float32)\n"
   ]
  },
  {
   "cell_type": "markdown",
   "metadata": {},
   "source": [
    "### 2. Create Model"
   ]
  },
  {
   "cell_type": "code",
   "execution_count": 108,
   "metadata": {},
   "outputs": [
    {
     "data": {
      "text/plain": [
       "CreditClassifier(\n",
       "  (layer_stack): Sequential(\n",
       "    (0): Linear(in_features=7, out_features=12, bias=True)\n",
       "    (1): ReLU()\n",
       "    (2): Linear(in_features=12, out_features=3, bias=True)\n",
       "  )\n",
       ")"
      ]
     },
     "execution_count": 108,
     "metadata": {},
     "output_type": "execute_result"
    }
   ],
   "source": [
    "class CreditClassifier(nn.Module):\n",
    "    def __init__(self):\n",
    "        super().__init__()\n",
    "\n",
    "        self.layer_stack = nn.Sequential(\n",
    "            nn.Linear(7, 12),\n",
    "            nn.ReLU(),\n",
    "            nn.Linear(12, 3)\n",
    "        )\n",
    "\n",
    "    def forward(self, x):\n",
    "        return self.layer_stack(x)\n",
    "    \n",
    "model = CreditClassifier().to(device)\n",
    "model"
   ]
  },
  {
   "cell_type": "code",
   "execution_count": 109,
   "metadata": {},
   "outputs": [],
   "source": [
    "# define loss and optimizer\n",
    "loss_fn = nn.CrossEntropyLoss()\n",
    "optimizer = torch.optim.Adam(params=model.parameters(), lr=0.01)"
   ]
  },
  {
   "cell_type": "code",
   "execution_count": 110,
   "metadata": {},
   "outputs": [
    {
     "data": {
      "text/plain": [
       "tensor([[0.2379, 0.3055, 0.4566],\n",
       "        [0.2403, 0.3136, 0.4461],\n",
       "        [0.2717, 0.3513, 0.3770],\n",
       "        [0.2525, 0.3944, 0.3531],\n",
       "        [0.2459, 0.3692, 0.3849]], device='cuda:0', grad_fn=<SliceBackward0>)"
      ]
     },
     "execution_count": 110,
     "metadata": {},
     "output_type": "execute_result"
    }
   ],
   "source": [
    "y_logits = model(X_test)\n",
    "y_probs = torch.softmax(y_logits, dim=1)\n",
    "y_probs[:5]"
   ]
  },
  {
   "cell_type": "code",
   "execution_count": 111,
   "metadata": {},
   "outputs": [],
   "source": [
    "def accuracy_fn(y_true, y_pred):\n",
    "    correct = torch.eq(y_true, y_pred).sum().item() # torch.eq() calculates where two tensors are equal\n",
    "    acc = (correct / len(y_pred)) * 100 \n",
    "    return acc"
   ]
  },
  {
   "cell_type": "markdown",
   "metadata": {},
   "source": [
    "### 3. Train Model"
   ]
  },
  {
   "cell_type": "code",
   "execution_count": 112,
   "metadata": {},
   "outputs": [
    {
     "name": "stdout",
     "output_type": "stream",
     "text": [
      "Epoch: 0 | Train Loss: 1.1374 | Train Accuracy: 39.69% | Test Loss: 1.0219 | Test Accuracy: 60.61%\n",
      "Epoch: 100 | Train Loss: 0.1012 | Train Accuracy: 97.71% | Test Loss: 0.0704 | Test Accuracy: 100.00%\n",
      "Epoch: 200 | Train Loss: 0.0385 | Train Accuracy: 99.24% | Test Loss: 0.0171 | Test Accuracy: 100.00%\n",
      "Epoch: 300 | Train Loss: 0.0275 | Train Accuracy: 99.24% | Test Loss: 0.0085 | Test Accuracy: 100.00%\n",
      "Epoch: 400 | Train Loss: 0.0207 | Train Accuracy: 99.24% | Test Loss: 0.0051 | Test Accuracy: 100.00%\n",
      "Epoch: 500 | Train Loss: 0.0145 | Train Accuracy: 99.24% | Test Loss: 0.0030 | Test Accuracy: 100.00%\n",
      "Epoch: 600 | Train Loss: 0.0102 | Train Accuracy: 100.00% | Test Loss: 0.0020 | Test Accuracy: 100.00%\n",
      "Epoch: 700 | Train Loss: 0.0072 | Train Accuracy: 100.00% | Test Loss: 0.0014 | Test Accuracy: 100.00%\n",
      "Epoch: 800 | Train Loss: 0.0053 | Train Accuracy: 100.00% | Test Loss: 0.0011 | Test Accuracy: 100.00%\n",
      "Epoch: 900 | Train Loss: 0.0039 | Train Accuracy: 100.00% | Test Loss: 0.0008 | Test Accuracy: 100.00%\n"
     ]
    }
   ],
   "source": [
    "# set seed\n",
    "torch.manual_seed(69)\n",
    "\n",
    "# no of epochs\n",
    "epochs = 1000\n",
    "\n",
    "# train test loop\n",
    "for epoch in range(epochs):\n",
    "\n",
    "    # TRAINING\n",
    "    model.train()\n",
    "\n",
    "    # forward pass\n",
    "    y_logits = model(X_train)\n",
    "    y_pred = torch.softmax(y_logits, dim=1).argmax(dim=1)\n",
    "\n",
    "    y_train = y_train.type(torch.LongTensor).to(device)\n",
    "\n",
    "    # metrics\n",
    "    loss = loss_fn(y_logits, y_train)\n",
    "    acc = accuracy_fn(y_train, y_pred)\n",
    "\n",
    "    # opt zero grad\n",
    "    optimizer.zero_grad()\n",
    "\n",
    "    # loss backwards\n",
    "    loss.backward()\n",
    "\n",
    "    # opt step\n",
    "    optimizer.step()\n",
    "\n",
    "    # TESTING\n",
    "    model.eval()\n",
    "\n",
    "    with torch.inference_mode():\n",
    "\n",
    "        # forward pass\n",
    "        test_logits = model(X_test)\n",
    "        test_pred = torch.softmax(test_logits, dim=1).argmax(dim=1)\n",
    "\n",
    "        # test metrics\n",
    "        y_test = y_test.type(torch.LongTensor).to(device)\n",
    "        test_loss = loss_fn(test_logits, y_test)\n",
    "        test_acc = accuracy_fn(y_test, test_pred)\n",
    "\n",
    "    # print results\n",
    "    if epoch % 100 == 0:\n",
    "        print(f\"Epoch: {epoch} | Train Loss: {loss:.4f} | Train Accuracy: {acc:.2f}% | Test Loss: {test_loss:.4f} | Test Accuracy: {test_acc:.2f}%\")"
   ]
  },
  {
   "cell_type": "markdown",
   "metadata": {},
   "source": [
    "### 4. Evaluate Model"
   ]
  },
  {
   "cell_type": "markdown",
   "metadata": {},
   "source": [
    "Average = 0, High = 1, Low = 2"
   ]
  },
  {
   "cell_type": "code",
   "execution_count": 113,
   "metadata": {},
   "outputs": [
    {
     "data": {
      "text/plain": [
       "(tensor([1, 1, 2, 1, 2], device='cuda:0'),\n",
       " tensor([1, 1, 2, 1, 2], device='cuda:0'))"
      ]
     },
     "execution_count": 113,
     "metadata": {},
     "output_type": "execute_result"
    }
   ],
   "source": [
    "model.eval()\n",
    "\n",
    "with torch.inference_mode():\n",
    "    eval_logits = model(X_test[0:5])\n",
    "\n",
    "eval_prob = torch.softmax(eval_logits, dim=1)\n",
    "eval_pred = eval_prob.argmax(dim=1)\n",
    "\n",
    "eval_pred, y_test[0:5]"
   ]
  },
  {
   "cell_type": "code",
   "execution_count": 116,
   "metadata": {},
   "outputs": [],
   "source": [
    "def predict(pred_x):\n",
    "    pred_x = pd.DataFrame([{\n",
    "        \"Age\": pred_x[0],\n",
    "        \"Gender\": pred_x[1],\n",
    "        \"Income\": pred_x[2],\n",
    "        \"Education\": pred_x[3],\n",
    "        \"Marital Status\": pred_x[4],\n",
    "        \"Number of Children\": pred_x[5],\n",
    "        \"Home Ownership\": pred_x[6]\n",
    "    }])\n",
    "\n",
    "    for column in pred_x.columns:\n",
    "        if column in le_cols:\n",
    "            le.fit(pure_df[column])\n",
    "            pred_x[column] = le.transform(pred_x[column])\n",
    "\n",
    "    pred_x = scaler.transform(pred_x)\n",
    "\n",
    "    pred_x = torch.tensor(pred_x).type(torch.float32).to(device)\n",
    "\n",
    "    model.eval()\n",
    "\n",
    "    with torch.inference_mode():\n",
    "        logits = model(pred_x)\n",
    "        probs = torch.softmax(logits, dim=1).squeeze()\n",
    "        \n",
    "    print(f\"Credit Score Rating: Low ({probs[2].item()*100:.2f}%) | Average ({probs[0].item()*100:.2f}%) | High ({probs[1].item()*100:.2f}%)\")"
   ]
  },
  {
   "cell_type": "markdown",
   "metadata": {},
   "source": [
    "Predictions: Age, Gender, Income, Degree, Marital Status, No. of Children, Home Ownership"
   ]
  },
  {
   "cell_type": "code",
   "execution_count": 119,
   "metadata": {},
   "outputs": [
    {
     "name": "stdout",
     "output_type": "stream",
     "text": [
      "Credit Score Rating: Low (0.00%) | Average (0.00%) | High (100.00%)\n"
     ]
    }
   ],
   "source": [
    "prediction = [40, \"Male\", 200000, \"High School Diploma\", \"Single\", 0, \"Owned\"]\n",
    "\n",
    "predict(prediction)"
   ]
  }
 ],
 "metadata": {
  "kernelspec": {
   "display_name": "base",
   "language": "python",
   "name": "python3"
  },
  "language_info": {
   "codemirror_mode": {
    "name": "ipython",
    "version": 3
   },
   "file_extension": ".py",
   "mimetype": "text/x-python",
   "name": "python",
   "nbconvert_exporter": "python",
   "pygments_lexer": "ipython3",
   "version": "3.9.19"
  }
 },
 "nbformat": 4,
 "nbformat_minor": 2
}
